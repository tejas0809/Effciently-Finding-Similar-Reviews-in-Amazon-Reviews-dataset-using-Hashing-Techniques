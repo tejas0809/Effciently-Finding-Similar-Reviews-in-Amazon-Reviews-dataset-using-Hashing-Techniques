{
  "nbformat": 4,
  "nbformat_minor": 0,
  "metadata": {
    "colab": {
      "name": "FINAL ESE545 Project1_shared.ipynb",
      "provenance": [],
      "collapsed_sections": [],
      "toc_visible": true
    },
    "kernelspec": {
      "name": "python3",
      "display_name": "Python 3"
    },
    "accelerator": "GPU"
  },
  "cells": [
    {
      "cell_type": "code",
      "metadata": {
        "id": "4CeFlY4izXtr",
        "colab_type": "code",
        "colab": {}
      },
      "source": [
        "import pandas as pd\n",
        "import numpy as np\n",
        "import string\n",
        "import csv\n",
        "from scipy.sparse import coo_matrix\n",
        "from scipy.spatial import distance\n",
        "from scipy.sparse import find\n",
        "import matplotlib.pyplot as plt\n",
        "import time\n",
        "import itertools\n",
        "%matplotlib inline"
      ],
      "execution_count": 0,
      "outputs": []
    },
    {
      "cell_type": "code",
      "metadata": {
        "id": "KI-JtNVqzkEt",
        "colab_type": "code",
        "outputId": "241b14c6-f53a-45a8-9500-2ec968cc61f3",
        "colab": {
          "base_uri": "https://localhost:8080/",
          "height": 54
        }
      },
      "source": [
        "from google.colab import drive\n",
        "drive.mount('/content/drive')"
      ],
      "execution_count": 19,
      "outputs": [
        {
          "output_type": "stream",
          "text": [
            "Drive already mounted at /content/drive; to attempt to forcibly remount, call drive.mount(\"/content/drive\", force_remount=True).\n"
          ],
          "name": "stdout"
        }
      ]
    },
    {
      "cell_type": "code",
      "metadata": {
        "id": "mipMaDMtL0dC",
        "colab_type": "code",
        "colab": {}
      },
      "source": [
        "# Global variables\n",
        "k = 4\n",
        "col_ind = 0   # global variable for finding binary matrix\n",
        "num_docs = 0  # later changed to the number of documents when we load data\n",
        "m = 120       # number of hash function\n",
        "num_hash = m\n",
        "given_stop_words=[\"i\",\"me\",\"my\",\"myself\",\"we\",\"our\",\"ours\",\"ourselves\",\"you\",\"your\",\"yours\",\"yourself\",\"yourselves\",\"he\",\"him\",\"his\",\n",
        "\"himself\",\"she\",\"her\",\"hers\",\"herself\",\"it\",\"its\",\"itself\",\"they\",\"them\",\"their\",\"theirs\",\"themselves\",\"what\",\"which\",\"who\",\n",
        "\"whom\",\"this\",\"that\",\"these\",\"those\",\"am\",\"is\",\"are\",\"was\",\"were\",\"be\",\"been\",\"being\",\"have\",\"has\",\"had\",\"having\",\"do\",\"does\",\n",
        "\"did\",\"doing\",\"a\",\"an\",\"the\",\"and\",\"but\",\"if\",\"or\",\"because\",\"as\",\"until\",\"while\",\"of\",\"at\",\"by\",\"for\",\"with\",\"about\",\"against\",\n",
        "\"between\",\"into\",\"through\",\"during\",\"before\",\"after\",\"above\",\"below\",\"to\",\"from\",\"up\",\"down\",\"in\",\"out\",\"on\",\"off\",\"over\",\"under\",\n",
        "\"again\",\"further\",\"then\",\"once\",\"here\",\"there\",\"when\",\"where\",\"why\",\"how\",\"all\",\"any\",\"both\",\"each\",\"few\",\"more\",\"most\",\"other\",\n",
        "\"some\",\"such\",\"no\",\"nor\",\"not\",\"only\",\"own\",\"same\",\"so\",\"than\",\"too\",\"very\",\"s\",\"t\",\"can\",\"will\",\"just\",\"don\",\"should\",\"now\"]\n",
        "para_hash = 2000 # a & b of hash function\n",
        "\n",
        "# NOTICE: a & b should be kept the same for question 6\n",
        "func_hash = np.random.randint(0, para_hash, (num_hash, 2)) # a & b of hash function\n"
      ],
      "execution_count": 0,
      "outputs": []
    },
    {
      "cell_type": "code",
      "metadata": {
        "id": "qO4RgqMMMK-x",
        "colab_type": "code",
        "colab": {}
      },
      "source": [
        "# parameters for band hash\n",
        "p = 982451653\n",
        "b = 20\n",
        "r = 6\n",
        "m = 120\n",
        "\n",
        "# NOTICE: a & b should keep the same for question 6\n",
        "hash_a_val = np.random.randint(p, size=r)\n",
        "hash_a_submat = np.tile(hash_a_val,b)\n",
        "hash_a_submat = hash_a_submat.reshape(m,1)\n",
        "hash_b_val = np.random.randint(p, size=r)\n",
        "hash_b_submat = np.tile(hash_b_val,b)\n",
        "hash_b_submat = hash_b_submat.reshape(m,1)"
      ],
      "execution_count": 0,
      "outputs": []
    },
    {
      "cell_type": "code",
      "metadata": {
        "id": "btWj4Zt1JJG2",
        "colab_type": "code",
        "colab": {}
      },
      "source": [
        "# Question 1\n",
        "def data_loader(url):\n",
        "  df_reviews=pd.read_json(url,orient='records',lines = True)\n",
        "  df_reviews_orig=df_reviews\n",
        "  df_reviews=df_reviews.drop(columns=['asin','reviewerName','helpful','overall','summary','unixReviewTime','reviewTime'])\n",
        "  regex_dict=r'\\b(?:{})\\b'.format('|'.join(given_stop_words))\n",
        "  df_reviews['reviewText'] = df_reviews['reviewText'].str.replace(regex_dict, '')\n",
        "  df_reviews.reviewText = df_reviews.reviewText.apply(lambda x: x.lower())\n",
        "  df_reviews.reviewText = df_reviews.reviewText.apply(lambda x: x.translate(str.maketrans('','',string.punctuation)))\n",
        "  df_reviews.reviewText=(df_reviews.reviewText).astype(str)\n",
        "  df_reviews['reviewText']=df_reviews['reviewText'].str.split()\n",
        "  df_reviews['reviewText']=df_reviews['reviewText'].str.join(\" \")\n",
        "  df_reviews = df_reviews[df_reviews['reviewText'].apply(lambda x: len(x) > k-1)]\n",
        "  return df_reviews, df_reviews_orig"
      ],
      "execution_count": 0,
      "outputs": []
    },
    {
      "cell_type": "code",
      "metadata": {
        "id": "tE_p2hVCUCXX",
        "colab_type": "code",
        "colab": {}
      },
      "source": [
        "# Question 2\n",
        "def cal_binary_matrix(review_text):\n",
        "  g_rows=[]\n",
        "  g_cols=[]\n",
        "  char_mapping={'a':0,'b':1,'c':2,'d':3,'e':4,'f':5,'g':6,'h':7,'i':8,'j':9,'k':10,'l':11,'m':12,'n':13,'o':14,'p':15,'q':16,'r':17,'s':18,'t':19,'u':20,'v':21,'w':22,'x':23,'y':24,'z':25,'0':26,'1':27,'2':28,'3':29,'4':30,'5':31,'6':32,'7':33,'8':34,'9':35,' ':36}\n",
        "  def find_index_in_binary_matrix(review):\n",
        "    global col_ind\n",
        "    for i in range(len(review)-k+1):\n",
        "      cur=review[i:i+k]\n",
        "      # print(cur)\n",
        "      ans=0\n",
        "      index=k-1\n",
        "      for c in cur:    \n",
        "        ans+=(char_mapping[c])*(37**(index))\n",
        "        \n",
        "        index-=1\n",
        "      g_rows.append(ans)\n",
        "      g_cols.append(col_ind)\n",
        "    col_ind+=1\n",
        "    # return rows\n",
        "  review_text.apply(find_index_in_binary_matrix)\n",
        "  g_rows=np.array(g_rows)\n",
        "  g_cols=np.array(g_cols)\n",
        "  data=np.ones((len(g_rows)))\n",
        "  binary_matrix = coo_matrix((data, (g_rows, g_cols)), shape=(37**4,len(df_reviews)))\n",
        "  return binary_matrix"
      ],
      "execution_count": 0,
      "outputs": []
    },
    {
      "cell_type": "code",
      "metadata": {
        "id": "TTyV1jIVVb--",
        "colab_type": "code",
        "colab": {}
      },
      "source": [
        "# Question 3\n",
        "def jaccard(x,y):\n",
        "  x = np.asarray(x, np.bool) \n",
        "  y = np.asarray(y, np.bool) \n",
        "  return 1 - np.double(np.bitwise_and(x, y).sum()) / np.double(np.bitwise_or(x, y).sum())\n",
        "\n",
        "def plot_jaccard_distance(jaccard_distance, bins):\n",
        "  plt.hist(jaccard_distance, bins)\n",
        "  plt.title(\"Pairwise Jaccard distance histogram\")\n",
        "  plt.xlabel('Jaccard distance')\n",
        "  plt.ylabel('Count')\n",
        "  plt.show()\n",
        "\n",
        "def cal_jaccard_distance_randomPairs(binary_matrix):\n",
        "  ind = np.arange(num_docs)\n",
        "  np.random.shuffle(ind)\n",
        "  ind = ind[:142]\n",
        "  binary_submatrix = binary_matrix.tocsr()[:,ind]\n",
        "  binary_submatrix = binary_submatrix.toarray()\n",
        "  binary_submatrix = binary_submatrix[~np.all(binary_submatrix == 0, axis=1)]\n",
        "\n",
        "  jaccard_distance = np.zeros((71*143))\n",
        "  jaccard_index = 0\n",
        "\n",
        "  for i in range(141):\n",
        "    for j in range(i+1,142):\n",
        "      jaccard_distance[jaccard_index] = jaccard(binary_submatrix[:,i], binary_submatrix[:,j])\n",
        "      jaccard_index += 1\n",
        "  jaccard_distance = jaccard_distance[:10000]\n",
        "  print(\"min jaccard dist:\"+str(np.min(jaccard_distance)))\n",
        "  print(\"avg jaccard dist:\"+str(np.mean(jaccard_distance)))\n",
        "  bins = np.linspace(0.8,1,21)\n",
        "  plot_jaccard_distance(jaccard_distance, bins)\n",
        "  "
      ],
      "execution_count": 0,
      "outputs": []
    },
    {
      "cell_type": "code",
      "metadata": {
        "id": "UpP_3qyYzUxh",
        "colab_type": "code",
        "colab": {}
      },
      "source": [
        "# Question 4\n",
        "# Parameter Tuning\n",
        "def hit_pro_without_band():\n",
        "  s = np.arange(0,1,0.01)\n",
        "  y = 1-(1-s)**m\n",
        "  plt.plot(s,y)\n",
        "  plt.show()\n",
        "def hit_pro_with_band():\n",
        "  factors=[]\n",
        "\n",
        "  def find_factors(n):\n",
        "    for i in range(1,n+1):\n",
        "      if(n%i==0):\n",
        "        factors.append(i)\n",
        "\n",
        "  find_factors(m)\n",
        "  for idx in range(0,len(factors)):\n",
        "    r=factors[idx]\n",
        "    b=factors[len(factors)-idx-1]\n",
        "    s=np.arange(0,1,0.01)\n",
        "    y=1-(1-s**r)**b\n",
        "    \n",
        "    plt.plot(s,y,label=\"r=\"+str(r)) \n",
        "    plt.legend(bbox_to_anchor=(1, 1))\n",
        "  plt.axvline(0.8, linestyle='--')\n",
        "  plt.show()"
      ],
      "execution_count": 0,
      "outputs": []
    },
    {
      "cell_type": "code",
      "metadata": {
        "id": "W1Bcsme1ADGF",
        "colab_type": "code",
        "colab": {}
      },
      "source": [
        "# Question 4\n",
        "def find_hash(row_num,a,b):\n",
        "  return ((row_num*a)+b)%(37**k)\n",
        "#37**4-> not prime \n",
        "\n",
        "def cal_signature_matrix(binary_matrix):\n",
        "  binary_matrix_nonzero = np.asarray(binary_matrix.nonzero())\n",
        "  binary_matrix_nonzero = binary_matrix_nonzero.T\n",
        "  binary_matrix_index = np.split(binary_matrix_nonzero[:, 0], np.cumsum(np.unique(binary_matrix_nonzero[:, 1], return_counts=True)[1])[:-1])\n",
        "  binary_matrix_index = np.asarray(binary_matrix_index)\n",
        "  signature_mat = np.full((num_hash,binary_matrix_index.shape[0]),37**k) \n",
        "  # start = time.time()\n",
        "  for index in range(binary_matrix_index.shape[0]):\n",
        "    for i in range(num_hash):\n",
        "        # print(\"k = \"+str(k)+ \"i= \"+str(i)+ \"j= \"+str(j))\n",
        "        signature_mat[i,index] = np.min(find_hash(binary_matrix_index[index],func_hash[i,0],func_hash[i,1]))\n",
        "  # print(time.time() - start)\n",
        "  return signature_mat\n",
        "  \n",
        "def cal_hash_signature_matrix(signature_mat):\n",
        "  hash_a_mat = np.repeat(hash_a_submat, num_docs, axis=1)\n",
        "  hash_b_mat = np.repeat(hash_b_submat, num_docs, axis=1)\n",
        "  tmp_hash_mat = ((hash_a_mat*signature_mat)+hash_b_mat)%p\n",
        "  hash_signature_mat = np.zeros((b,num_docs))\n",
        "  i = 0\n",
        "  for row in range(0, m, r):\n",
        "    hash_signature_mat[i] = np.sum(tmp_hash_mat[row:row+r,:] ,axis=0)\n",
        "    i += 1\n",
        "  return hash_signature_mat"
      ],
      "execution_count": 0,
      "outputs": []
    },
    {
      "cell_type": "code",
      "metadata": {
        "id": "H2rfKdh48FgM",
        "colab_type": "code",
        "colab": {}
      },
      "source": [
        "def make_pairs():\n",
        "  # start=time.time()\n",
        "  bucket_list=list()\n",
        "  for b in range(hash_signature_mat.shape[0]):\n",
        "    list_temp = ([(np.where(hash_signature_mat[b]==this)[0]).tolist() for this in np.unique(hash_signature_mat[b])])\n",
        "    for l in list_temp:\n",
        "      if(len(l)>=2):\n",
        "        bucket_list.extend(list(itertools.combinations(l, 2)))\n",
        "\n",
        "  unique_pairs = bucket_list\n",
        "  unique_pairs.sort()\n",
        "  unique_pairs = list(unique_pairs for unique_pairs,_ in itertools.groupby(unique_pairs))\n",
        "  print(\"len of unique pairs:\"+str(len(unique_pairs)))\n",
        "  return unique_pairs\n",
        "  # print(time.time()-start)"
      ],
      "execution_count": 0,
      "outputs": []
    },
    {
      "cell_type": "code",
      "metadata": {
        "id": "8g2a5wfm8WuB",
        "colab_type": "code",
        "colab": {}
      },
      "source": [
        "def make_row_index_dict():\n",
        "  bin_mat = binary_matrix.tocsc()\n",
        "  [row, col, vals]=find(bin_mat)\n",
        "  unq=np.unique(col,return_counts=True)\n",
        "  bin_mat_dict={}\n",
        "  sk=0\n",
        "  for dc in range(num_docs):\n",
        "    bin_mat_dict[dc]=(row[sk:sk+ unq[1][dc]]).tolist()\n",
        "    sk=sk+unq[1][dc]\n",
        "  return bin_mat_dict"
      ],
      "execution_count": 0,
      "outputs": []
    },
    {
      "cell_type": "code",
      "metadata": {
        "id": "N3XzrLCk8lpC",
        "colab_type": "code",
        "colab": {}
      },
      "source": [
        "def findJaccardDistance(doc1Idx, doc2Idx):\n",
        "  doc1=set(bin_mat_dict[doc1Idx])\n",
        "  doc2=set(bin_mat_dict[doc2Idx])\n",
        "  unn=len(doc1.union(doc2))\n",
        "  intn=len(doc1.intersection(doc2))\n",
        "  return (1-(intn/unn))"
      ],
      "execution_count": 0,
      "outputs": []
    },
    {
      "cell_type": "code",
      "metadata": {
        "id": "EimGrM_v8n_j",
        "colab_type": "code",
        "colab": {}
      },
      "source": [
        "def jaccardMapFunc(selected_pair):\n",
        "  if(findJaccardDistance(selected_pair[0],selected_pair[1])<0.2):\n",
        "    return True\n",
        "  else:\n",
        "    return False"
      ],
      "execution_count": 0,
      "outputs": []
    },
    {
      "cell_type": "code",
      "metadata": {
        "id": "Jy53_maC8s6U",
        "colab_type": "code",
        "colab": {}
      },
      "source": [
        "def filterPairs():\n",
        "  ans=map(jaccardMapFunc,unique_pairs)\n",
        "  list_ans=np.array(list(ans))\n",
        "  unique_pairs_np=np.array(unique_pairs)\n",
        "  final_pairs = unique_pairs_np[list_ans]\n",
        "  return final_pairs"
      ],
      "execution_count": 0,
      "outputs": []
    },
    {
      "cell_type": "code",
      "metadata": {
        "id": "rjd1KtAy-S3U",
        "colab_type": "code",
        "colab": {}
      },
      "source": [
        "def writeToFile():\n",
        "  with open('similarReviews.csv','w') as opFile:\n",
        "    writerObj = csv.writer(opFile, delimiter =',')\n",
        "    writerObj.writerow([\"reviewerID_1\",\"reviewerID_2\",\"reviewText_1\",\"reviewText_2\"])\n",
        "    for pair_p in final_pairs:\n",
        "      writerObj.writerow([df_reviews_orig.iloc[pair_p[0]].reviewerID, df_reviews_orig.iloc[pair_p[1]].reviewerID, df_reviews_orig.iloc[pair_p[0]].reviewText, df_reviews_orig.iloc[pair_p[1]].reviewText])\n"
      ],
      "execution_count": 0,
      "outputs": []
    },
    {
      "cell_type": "code",
      "metadata": {
        "id": "g597Uc0fPWQ7",
        "colab_type": "code",
        "colab": {}
      },
      "source": [
        "# Question 6\n",
        "def find_new_binary_matrix(review):\n",
        "  binary_mat = np.zeros((37**k))\n",
        "  char_mapping={'a':0,'b':1,'c':2,'d':3,'e':4,'f':5,'g':6,'h':7,'i':8,'j':9,'k':10,'l':11,'m':12,'n':13,'o':14,'p':15,'q':16,'r':17,'s':18,'t':19,'u':20,'v':21,'w':22,'x':23,'y':24,'z':25,'0':26,'1':27,'2':28,'3':29,'4':30,'5':31,'6':32,'7':33,'8':34,'9':35,' ':36}\n",
        "  for i in range(len(review)-k+1):\n",
        "    cur=review[i:i+k]\n",
        "    # print(cur)\n",
        "    ans=0\n",
        "    index=k-1\n",
        "    for c in cur:    \n",
        "      ans+=(char_mapping[c])*(37**(index))\n",
        "      index-=1\n",
        "    binary_mat[ans] = 1\n",
        "  return binary_mat\n",
        "\n",
        "def newReview_writeToFile(min_jaccard_distance_index):\n",
        "  print(min_jaccard_distance_index)\n",
        "  with open('NearestNeighbor.csv','w') as opFile:\n",
        "    writerObj = csv.writer(opFile, delimiter =',')\n",
        "    writerObj.writerow([\"reviewerID\", \"reviewText\"])\n",
        "    for reviewIdx in range(min_jaccard_distance_index.shape[0]):\n",
        "      writerObj.writerow([df_reviews.iloc[min_jaccard_distance_index[reviewIdx]].reviewerID, df_reviews.iloc[min_jaccard_distance_index[reviewIdx]].reviewText])\n",
        "\n",
        "\n",
        "def cal_newReview_jaccard_distance(new_review_bucket,new_review_binary_mat):\n",
        "  new_review_binary_submatrix = (binary_matrix.tocsr()[:,new_review_bucket]).toarray()\n",
        "  new_review_binary_mat = new_review_binary_mat.reshape(37**4,1)\n",
        "  new_review_binary_submatrix = np.concatenate((new_review_binary_mat, new_review_binary_submatrix), axis=1)\n",
        "  new_review_binary_submatrix = new_review_binary_submatrix[~np.all(new_review_binary_submatrix == 0, axis=1)]\n",
        "  jaccard_distance = np.zeros((new_review_bucket.shape))\n",
        "\n",
        "  for i in range(1,new_review_bucket.shape[0],1):\n",
        "    jaccard_distance[i-1] = jaccard(new_review_binary_submatrix[:,0], new_review_binary_submatrix[:,i])\n",
        "\n",
        "  min_jaccard_distance = np.min(jaccard_distance)\n",
        "  min_index = np.where(jaccard_distance==min_jaccard_distance)\n",
        "  return new_review_bucket[min_index], min_jaccard_distance\n",
        "\n",
        "def findNearestNeighbor(new_review):\n",
        "  # Data Processing\n",
        "  new_review = new_review.lower()\n",
        "  new_review = new_review.translate(str.maketrans('','',string.punctuation))\n",
        "  new_review = ' '.join([word for word in new_review.split() if word not in given_stop_words])\n",
        "  new_review = ' '.join(new_review.split())\n",
        "  new_review_binary_mat = find_new_binary_matrix(new_review)\n",
        "  new_review_indexOfOne = np.where(new_review_binary_mat==1)[0]\n",
        "  new_review_indexOfOne = np.asarray(new_review_indexOfOne)\n",
        "  new_review_hash = np.zeros((num_hash))\n",
        "  for i in range(num_hash):\n",
        "    new_review_hash[i] = np.min(find_hash(new_review_indexOfOne,func_hash[i,0],func_hash[i,1]))\n",
        "  new_review_tmp_mat = ((hash_a_submat[:,0]*new_review_hash)+hash_b_submat[:,0])%p\n",
        "  new_review_signature_mat = np.zeros((b))\n",
        "  i = 0;\n",
        "\n",
        "  for row in range(0, m, r):\n",
        "    new_review_signature_mat[i] = np.sum(new_review_tmp_mat[row:row+r] ,axis=0)\n",
        "    i += 1\n",
        "  new_review_bucket = []\n",
        "  for band_index in range(b):\n",
        "    target = new_review_signature_mat[band_index]\n",
        "    # print(np.where(hash_signature_mat[band_index,:]==target)[0])\n",
        "    new_review_bucket.append(np.where(hash_signature_mat[band_index,:]==target)[0])\n",
        "  new_review_bucket = np.asarray(new_review_bucket)\n",
        "  new_review_bucket = np.unique(new_review_bucket)\n",
        "  min_jaccard_distance_index, min_jaccard_distance = cal_newReview_jaccard_distance(new_review_bucket,new_review_binary_mat)\n",
        "  newReview_writeToFile(min_jaccard_distance_index)\n",
        "  return min_jaccard_distance_index, min_jaccard_distance"
      ],
      "execution_count": 0,
      "outputs": []
    },
    {
      "cell_type": "code",
      "metadata": {
        "id": "geiSPJjNE5Bf",
        "colab_type": "code",
        "outputId": "1284124d-c1ec-4fc6-eff4-eddf61e3039f",
        "colab": {
          "base_uri": "https://localhost:8080/",
          "height": 348
        }
      },
      "source": [
        "url = '/content/drive/My Drive/amazonReviews.json'\n",
        "df_reviews,df_reviews_orig = data_loader(url)\n",
        "num_docs=len(df_reviews)\n",
        "binary_matrix = cal_binary_matrix(df_reviews.reviewText)\n",
        "cal_jaccard_distance_randomPairs(binary_matrix)\n",
        "signature_mat = cal_signature_matrix(binary_matrix)\n",
        "hash_signature_mat = cal_hash_signature_matrix(signature_mat)\n",
        "unique_pairs= make_pairs()\n",
        "bin_mat_dict=make_row_index_dict()\n",
        "final_pairs=filterPairs()\n",
        "writeToFile()\n",
        "# new_review = '     i .     me , ,     great!   so:   |'\n",
        "# min_jaccard_distance_index, min_jaccard_distance = findNearestNeighbor(new_review)"
      ],
      "execution_count": 34,
      "outputs": [
        {
          "output_type": "stream",
          "text": [
            "min jaccard dist:0.8611898016997167\n",
            "avg jaccard dist:0.968993899295833\n"
          ],
          "name": "stdout"
        },
        {
          "output_type": "display_data",
          "data": {
            "image/png": "[encoded data removed]",
            "text/plain": [
              "<Figure size 432x288 with 1 Axes>"
            ]
          },
          "metadata": {
            "tags": []
          }
        },
        {
          "output_type": "stream",
          "text": [
            "len of unique pairs:10282\n"
          ],
          "name": "stdout"
        }
      ]
    },
    {
      "cell_type": "code",
      "metadata": {
        "id": "0WlfS0FaJ038",
        "colab_type": "code",
        "outputId": "e94beecb-08b6-4421-8169-b6a6b5d12028",
        "colab": {
          "base_uri": "https://localhost:8080/",
          "height": 913
        }
      },
      "source": [
        "print(binary_matrix)"
      ],
      "execution_count": 35,
      "outputs": [
        {
          "output_type": "stream",
          "text": [
            "  (455083, 0)\t1.0\n",
            "  (1844800, 0)\t1.0\n",
            "  (787806, 0)\t1.0\n",
            "  (1036414, 0)\t1.0\n",
            "  (864098, 0)\t1.0\n",
            "  (110907, 0)\t1.0\n",
            "  (355241, 0)\t1.0\n",
            "  (24793, 0)\t1.0\n",
            "  (917377, 0)\t1.0\n",
            "  (208070, 0)\t1.0\n",
            "  (201963, 0)\t1.0\n",
            "  (1850156, 0)\t1.0\n",
            "  (985987, 0)\t1.0\n",
            "  (872474, 0)\t1.0\n",
            "  (420807, 0)\t1.0\n",
            "  (576595, 0)\t1.0\n",
            "  (718280, 0)\t1.0\n",
            "  (338113, 0)\t1.0\n",
            "  (1265229, 0)\t1.0\n",
            "  (1833624, 0)\t1.0\n",
            "  (374300, 0)\t1.0\n",
            "  (729986, 0)\t1.0\n",
            "  (771234, 0)\t1.0\n",
            "  (423279, 0)\t1.0\n",
            "  (668054, 0)\t1.0\n",
            "  :\t:\n",
            "  (1830986, 157679)\t1.0\n",
            "  (276690, 157679)\t1.0\n",
            "  (866761, 157679)\t1.0\n",
            "  (209422, 157679)\t1.0\n",
            "  (251977, 157679)\t1.0\n",
            "  (1826505, 157679)\t1.0\n",
            "  (110906, 157679)\t1.0\n",
            "  (355206, 157679)\t1.0\n",
            "  (23499, 157679)\t1.0\n",
            "  (869499, 157679)\t1.0\n",
            "  (310743, 157679)\t1.0\n",
            "  (252529, 157679)\t1.0\n",
            "  (1846950, 157679)\t1.0\n",
            "  (867362, 157679)\t1.0\n",
            "  (231661, 157679)\t1.0\n",
            "  (1074835, 157679)\t1.0\n",
            "  (411550, 157679)\t1.0\n",
            "  (234077, 157679)\t1.0\n",
            "  (1164225, 157679)\t1.0\n",
            "  (1844800, 157679)\t1.0\n",
            "  (787819, 157679)\t1.0\n",
            "  (1036902, 157679)\t1.0\n",
            "  (882172, 157679)\t1.0\n",
            "  (779631, 157679)\t1.0\n",
            "  (733950, 157679)\t1.0\n"
          ],
          "name": "stdout"
        }
      ]
    },
    {
      "cell_type": "code",
      "metadata": {
        "id": "MqvR71vocq9u",
        "colab_type": "code",
        "colab": {}
      },
      "source": [
        ""
      ],
      "execution_count": 0,
      "outputs": []
    }
  ]
}